{
 "cells": [
  {
   "cell_type": "code",
   "execution_count": 40,
   "metadata": {},
   "outputs": [],
   "source": [
    "import pandas as pd\n",
    "import numpy as np\n",
    "import lightgbm as lgbm\n",
    "from sklearn.model_selection import train_test_split\n",
    "from sklearn.metrics import classification_report, r2_score, mean_absolute_error, mean_absolute_percentage_error, mean_squared_error"
   ]
  },
  {
   "cell_type": "code",
   "execution_count": 41,
   "metadata": {},
   "outputs": [],
   "source": [
    "BASE_DIR = '../../data/'"
   ]
  },
  {
   "cell_type": "code",
   "execution_count": 42,
   "metadata": {},
   "outputs": [],
   "source": [
    "def load_data():\n",
    "    data = pd.read_csv(f'{BASE_DIR}test_data.csv')\n",
    "    return data"
   ]
  },
  {
   "cell_type": "code",
   "execution_count": 43,
   "metadata": {},
   "outputs": [],
   "source": [
    "data = load_data()"
   ]
  },
  {
   "cell_type": "code",
   "execution_count": 44,
   "metadata": {},
   "outputs": [
    {
     "data": {
      "text/html": [
       "<div>\n",
       "<style scoped>\n",
       "    .dataframe tbody tr th:only-of-type {\n",
       "        vertical-align: middle;\n",
       "    }\n",
       "\n",
       "    .dataframe tbody tr th {\n",
       "        vertical-align: top;\n",
       "    }\n",
       "\n",
       "    .dataframe thead th {\n",
       "        text-align: right;\n",
       "    }\n",
       "</style>\n",
       "<table border=\"1\" class=\"dataframe\">\n",
       "  <thead>\n",
       "    <tr style=\"text-align: right;\">\n",
       "      <th></th>\n",
       "      <th>Unnamed: 0</th>\n",
       "      <th>league_key</th>\n",
       "      <th>league_name</th>\n",
       "      <th>year</th>\n",
       "      <th>season</th>\n",
       "      <th>matchday</th>\n",
       "      <th>date</th>\n",
       "      <th>ta_key</th>\n",
       "      <th>tb_key</th>\n",
       "      <th>link</th>\n",
       "      <th>...</th>\n",
       "      <th>tb_lm_result_wavg</th>\n",
       "      <th>tb_lm_win_wavg</th>\n",
       "      <th>tb_lm_points_wavg</th>\n",
       "      <th>tb_lm_odds_wavg</th>\n",
       "      <th>tb_em_count</th>\n",
       "      <th>tb_em_goals_avg</th>\n",
       "      <th>tb_em_result_avg</th>\n",
       "      <th>tb_em_win_avg</th>\n",
       "      <th>tb_em_draw_avg</th>\n",
       "      <th>tb_em_points_avg</th>\n",
       "    </tr>\n",
       "  </thead>\n",
       "  <tbody>\n",
       "    <tr>\n",
       "      <th>0</th>\n",
       "      <td>0</td>\n",
       "      <td>2liga</td>\n",
       "      <td>2. Bundesliga</td>\n",
       "      <td>2017</td>\n",
       "      <td>2016/2017</td>\n",
       "      <td>1</td>\n",
       "      <td>07.08.2016</td>\n",
       "      <td>1-fc-heidenheim-1846</td>\n",
       "      <td>fc-erzgebirge-aue</td>\n",
       "      <td>https://www.fussballdaten.de/2liga/2017/1/heid...</td>\n",
       "      <td>...</td>\n",
       "      <td>NaN</td>\n",
       "      <td>NaN</td>\n",
       "      <td>NaN</td>\n",
       "      <td>NaN</td>\n",
       "      <td>NaN</td>\n",
       "      <td>NaN</td>\n",
       "      <td>NaN</td>\n",
       "      <td>NaN</td>\n",
       "      <td>NaN</td>\n",
       "      <td>NaN</td>\n",
       "    </tr>\n",
       "    <tr>\n",
       "      <th>1</th>\n",
       "      <td>1</td>\n",
       "      <td>2liga</td>\n",
       "      <td>2. Bundesliga</td>\n",
       "      <td>2017</td>\n",
       "      <td>2016/2017</td>\n",
       "      <td>2</td>\n",
       "      <td>12.08.2016</td>\n",
       "      <td>1-fc-heidenheim-1846</td>\n",
       "      <td>1-fc-nuernberg</td>\n",
       "      <td>https://www.fussballdaten.de/2liga/2017/2/nuer...</td>\n",
       "      <td>...</td>\n",
       "      <td>NaN</td>\n",
       "      <td>NaN</td>\n",
       "      <td>NaN</td>\n",
       "      <td>NaN</td>\n",
       "      <td>NaN</td>\n",
       "      <td>NaN</td>\n",
       "      <td>NaN</td>\n",
       "      <td>NaN</td>\n",
       "      <td>NaN</td>\n",
       "      <td>NaN</td>\n",
       "    </tr>\n",
       "    <tr>\n",
       "      <th>2</th>\n",
       "      <td>2</td>\n",
       "      <td>2liga</td>\n",
       "      <td>2. Bundesliga</td>\n",
       "      <td>2017</td>\n",
       "      <td>2016/2017</td>\n",
       "      <td>3</td>\n",
       "      <td>26.08.2016</td>\n",
       "      <td>1-fc-heidenheim-1846</td>\n",
       "      <td>kickers-wuerzburg</td>\n",
       "      <td>https://www.fussballdaten.de/2liga/2017/3/heid...</td>\n",
       "      <td>...</td>\n",
       "      <td>NaN</td>\n",
       "      <td>NaN</td>\n",
       "      <td>NaN</td>\n",
       "      <td>NaN</td>\n",
       "      <td>NaN</td>\n",
       "      <td>NaN</td>\n",
       "      <td>NaN</td>\n",
       "      <td>NaN</td>\n",
       "      <td>NaN</td>\n",
       "      <td>NaN</td>\n",
       "    </tr>\n",
       "    <tr>\n",
       "      <th>3</th>\n",
       "      <td>3</td>\n",
       "      <td>2liga</td>\n",
       "      <td>2. Bundesliga</td>\n",
       "      <td>2017</td>\n",
       "      <td>2016/2017</td>\n",
       "      <td>4</td>\n",
       "      <td>09.09.2016</td>\n",
       "      <td>1-fc-heidenheim-1846</td>\n",
       "      <td>vfb-stuttgart</td>\n",
       "      <td>https://www.fussballdaten.de/2liga/2017/4/stut...</td>\n",
       "      <td>...</td>\n",
       "      <td>0.454545</td>\n",
       "      <td>0.727273</td>\n",
       "      <td>2.181818</td>\n",
       "      <td>1.950909</td>\n",
       "      <td>3.0</td>\n",
       "      <td>1.333333</td>\n",
       "      <td>0.333333</td>\n",
       "      <td>0.666667</td>\n",
       "      <td>0.000000</td>\n",
       "      <td>0.666667</td>\n",
       "    </tr>\n",
       "    <tr>\n",
       "      <th>4</th>\n",
       "      <td>4</td>\n",
       "      <td>2liga</td>\n",
       "      <td>2. Bundesliga</td>\n",
       "      <td>2017</td>\n",
       "      <td>2016/2017</td>\n",
       "      <td>5</td>\n",
       "      <td>17.09.2016</td>\n",
       "      <td>1-fc-heidenheim-1846</td>\n",
       "      <td>fortuna-duesseldorf</td>\n",
       "      <td>https://www.fussballdaten.de/2liga/2017/5/heid...</td>\n",
       "      <td>...</td>\n",
       "      <td>0.160000</td>\n",
       "      <td>0.160000</td>\n",
       "      <td>1.320000</td>\n",
       "      <td>2.952000</td>\n",
       "      <td>4.0</td>\n",
       "      <td>1.000000</td>\n",
       "      <td>0.250000</td>\n",
       "      <td>0.250000</td>\n",
       "      <td>0.750000</td>\n",
       "      <td>0.250000</td>\n",
       "    </tr>\n",
       "    <tr>\n",
       "      <th>...</th>\n",
       "      <td>...</td>\n",
       "      <td>...</td>\n",
       "      <td>...</td>\n",
       "      <td>...</td>\n",
       "      <td>...</td>\n",
       "      <td>...</td>\n",
       "      <td>...</td>\n",
       "      <td>...</td>\n",
       "      <td>...</td>\n",
       "      <td>...</td>\n",
       "      <td>...</td>\n",
       "      <td>...</td>\n",
       "      <td>...</td>\n",
       "      <td>...</td>\n",
       "      <td>...</td>\n",
       "      <td>...</td>\n",
       "      <td>...</td>\n",
       "      <td>...</td>\n",
       "      <td>...</td>\n",
       "      <td>...</td>\n",
       "      <td>...</td>\n",
       "    </tr>\n",
       "    <tr>\n",
       "      <th>26523</th>\n",
       "      <td>26523</td>\n",
       "      <td>spanien</td>\n",
       "      <td>Primera División</td>\n",
       "      <td>2022</td>\n",
       "      <td>2021/2022</td>\n",
       "      <td>34</td>\n",
       "      <td>01.05.2022</td>\n",
       "      <td>real-sociedad-san-sebastian</td>\n",
       "      <td>rayo-vallecano</td>\n",
       "      <td>https://www.fussballdaten.de/spanien/2022/34/v...</td>\n",
       "      <td>...</td>\n",
       "      <td>0.131387</td>\n",
       "      <td>0.437956</td>\n",
       "      <td>1.569343</td>\n",
       "      <td>2.971752</td>\n",
       "      <td>33.0</td>\n",
       "      <td>1.030303</td>\n",
       "      <td>-0.121212</td>\n",
       "      <td>0.333333</td>\n",
       "      <td>0.212121</td>\n",
       "      <td>0.333333</td>\n",
       "    </tr>\n",
       "    <tr>\n",
       "      <th>26524</th>\n",
       "      <td>26524</td>\n",
       "      <td>spanien</td>\n",
       "      <td>Primera División</td>\n",
       "      <td>2022</td>\n",
       "      <td>2021/2022</td>\n",
       "      <td>35</td>\n",
       "      <td>06.05.2022</td>\n",
       "      <td>real-sociedad-san-sebastian</td>\n",
       "      <td>levante-ud</td>\n",
       "      <td>https://www.fussballdaten.de/spanien/2022/35/l...</td>\n",
       "      <td>...</td>\n",
       "      <td>-0.094891</td>\n",
       "      <td>0.233577</td>\n",
       "      <td>1.138686</td>\n",
       "      <td>3.607299</td>\n",
       "      <td>34.0</td>\n",
       "      <td>1.235294</td>\n",
       "      <td>-0.382353</td>\n",
       "      <td>0.147059</td>\n",
       "      <td>0.323529</td>\n",
       "      <td>0.147059</td>\n",
       "    </tr>\n",
       "    <tr>\n",
       "      <th>26525</th>\n",
       "      <td>26525</td>\n",
       "      <td>spanien</td>\n",
       "      <td>Primera División</td>\n",
       "      <td>2022</td>\n",
       "      <td>2021/2022</td>\n",
       "      <td>36</td>\n",
       "      <td>12.05.2022</td>\n",
       "      <td>real-sociedad-san-sebastian</td>\n",
       "      <td>fc-cadiz</td>\n",
       "      <td>https://www.fussballdaten.de/spanien/2022/36/s...</td>\n",
       "      <td>...</td>\n",
       "      <td>0.313869</td>\n",
       "      <td>0.547445</td>\n",
       "      <td>1.861314</td>\n",
       "      <td>4.426715</td>\n",
       "      <td>35.0</td>\n",
       "      <td>0.942857</td>\n",
       "      <td>-0.200000</td>\n",
       "      <td>0.200000</td>\n",
       "      <td>0.400000</td>\n",
       "      <td>0.200000</td>\n",
       "    </tr>\n",
       "    <tr>\n",
       "      <th>26526</th>\n",
       "      <td>26526</td>\n",
       "      <td>spanien</td>\n",
       "      <td>Primera División</td>\n",
       "      <td>2022</td>\n",
       "      <td>2021/2022</td>\n",
       "      <td>37</td>\n",
       "      <td>15.05.2022</td>\n",
       "      <td>real-sociedad-san-sebastian</td>\n",
       "      <td>fc-villarreal</td>\n",
       "      <td>https://www.fussballdaten.de/spanien/2022/37/v...</td>\n",
       "      <td>...</td>\n",
       "      <td>0.489051</td>\n",
       "      <td>0.635036</td>\n",
       "      <td>2.124088</td>\n",
       "      <td>2.002336</td>\n",
       "      <td>36.0</td>\n",
       "      <td>1.666667</td>\n",
       "      <td>0.138889</td>\n",
       "      <td>0.416667</td>\n",
       "      <td>0.305556</td>\n",
       "      <td>0.416667</td>\n",
       "    </tr>\n",
       "    <tr>\n",
       "      <th>26527</th>\n",
       "      <td>26527</td>\n",
       "      <td>spanien</td>\n",
       "      <td>Primera División</td>\n",
       "      <td>2022</td>\n",
       "      <td>2021/2022</td>\n",
       "      <td>38</td>\n",
       "      <td>22.05.2022</td>\n",
       "      <td>real-sociedad-san-sebastian</td>\n",
       "      <td>atletico-madrid</td>\n",
       "      <td>https://www.fussballdaten.de/spanien/2022/38/s...</td>\n",
       "      <td>...</td>\n",
       "      <td>0.255474</td>\n",
       "      <td>0.364964</td>\n",
       "      <td>1.620438</td>\n",
       "      <td>2.082117</td>\n",
       "      <td>37.0</td>\n",
       "      <td>1.702703</td>\n",
       "      <td>0.297297</td>\n",
       "      <td>0.540541</td>\n",
       "      <td>0.216216</td>\n",
       "      <td>0.540541</td>\n",
       "    </tr>\n",
       "  </tbody>\n",
       "</table>\n",
       "<p>26528 rows × 141 columns</p>\n",
       "</div>"
      ],
      "text/plain": [
       "       Unnamed: 0 league_key       league_name  year     season  matchday  \\\n",
       "0               0      2liga     2. Bundesliga  2017  2016/2017         1   \n",
       "1               1      2liga     2. Bundesliga  2017  2016/2017         2   \n",
       "2               2      2liga     2. Bundesliga  2017  2016/2017         3   \n",
       "3               3      2liga     2. Bundesliga  2017  2016/2017         4   \n",
       "4               4      2liga     2. Bundesliga  2017  2016/2017         5   \n",
       "...           ...        ...               ...   ...        ...       ...   \n",
       "26523       26523    spanien  Primera División  2022  2021/2022        34   \n",
       "26524       26524    spanien  Primera División  2022  2021/2022        35   \n",
       "26525       26525    spanien  Primera División  2022  2021/2022        36   \n",
       "26526       26526    spanien  Primera División  2022  2021/2022        37   \n",
       "26527       26527    spanien  Primera División  2022  2021/2022        38   \n",
       "\n",
       "             date                       ta_key               tb_key  \\\n",
       "0      07.08.2016         1-fc-heidenheim-1846    fc-erzgebirge-aue   \n",
       "1      12.08.2016         1-fc-heidenheim-1846       1-fc-nuernberg   \n",
       "2      26.08.2016         1-fc-heidenheim-1846    kickers-wuerzburg   \n",
       "3      09.09.2016         1-fc-heidenheim-1846        vfb-stuttgart   \n",
       "4      17.09.2016         1-fc-heidenheim-1846  fortuna-duesseldorf   \n",
       "...           ...                          ...                  ...   \n",
       "26523  01.05.2022  real-sociedad-san-sebastian       rayo-vallecano   \n",
       "26524  06.05.2022  real-sociedad-san-sebastian           levante-ud   \n",
       "26525  12.05.2022  real-sociedad-san-sebastian             fc-cadiz   \n",
       "26526  15.05.2022  real-sociedad-san-sebastian        fc-villarreal   \n",
       "26527  22.05.2022  real-sociedad-san-sebastian      atletico-madrid   \n",
       "\n",
       "                                                    link  ...  \\\n",
       "0      https://www.fussballdaten.de/2liga/2017/1/heid...  ...   \n",
       "1      https://www.fussballdaten.de/2liga/2017/2/nuer...  ...   \n",
       "2      https://www.fussballdaten.de/2liga/2017/3/heid...  ...   \n",
       "3      https://www.fussballdaten.de/2liga/2017/4/stut...  ...   \n",
       "4      https://www.fussballdaten.de/2liga/2017/5/heid...  ...   \n",
       "...                                                  ...  ...   \n",
       "26523  https://www.fussballdaten.de/spanien/2022/34/v...  ...   \n",
       "26524  https://www.fussballdaten.de/spanien/2022/35/l...  ...   \n",
       "26525  https://www.fussballdaten.de/spanien/2022/36/s...  ...   \n",
       "26526  https://www.fussballdaten.de/spanien/2022/37/v...  ...   \n",
       "26527  https://www.fussballdaten.de/spanien/2022/38/s...  ...   \n",
       "\n",
       "      tb_lm_result_wavg tb_lm_win_wavg tb_lm_points_wavg tb_lm_odds_wavg  \\\n",
       "0                   NaN            NaN               NaN             NaN   \n",
       "1                   NaN            NaN               NaN             NaN   \n",
       "2                   NaN            NaN               NaN             NaN   \n",
       "3              0.454545       0.727273          2.181818        1.950909   \n",
       "4              0.160000       0.160000          1.320000        2.952000   \n",
       "...                 ...            ...               ...             ...   \n",
       "26523          0.131387       0.437956          1.569343        2.971752   \n",
       "26524         -0.094891       0.233577          1.138686        3.607299   \n",
       "26525          0.313869       0.547445          1.861314        4.426715   \n",
       "26526          0.489051       0.635036          2.124088        2.002336   \n",
       "26527          0.255474       0.364964          1.620438        2.082117   \n",
       "\n",
       "       tb_em_count  tb_em_goals_avg  tb_em_result_avg  tb_em_win_avg  \\\n",
       "0              NaN              NaN               NaN            NaN   \n",
       "1              NaN              NaN               NaN            NaN   \n",
       "2              NaN              NaN               NaN            NaN   \n",
       "3              3.0         1.333333          0.333333       0.666667   \n",
       "4              4.0         1.000000          0.250000       0.250000   \n",
       "...            ...              ...               ...            ...   \n",
       "26523         33.0         1.030303         -0.121212       0.333333   \n",
       "26524         34.0         1.235294         -0.382353       0.147059   \n",
       "26525         35.0         0.942857         -0.200000       0.200000   \n",
       "26526         36.0         1.666667          0.138889       0.416667   \n",
       "26527         37.0         1.702703          0.297297       0.540541   \n",
       "\n",
       "       tb_em_draw_avg  tb_em_points_avg  \n",
       "0                 NaN               NaN  \n",
       "1                 NaN               NaN  \n",
       "2                 NaN               NaN  \n",
       "3            0.000000          0.666667  \n",
       "4            0.750000          0.250000  \n",
       "...               ...               ...  \n",
       "26523        0.212121          0.333333  \n",
       "26524        0.323529          0.147059  \n",
       "26525        0.400000          0.200000  \n",
       "26526        0.305556          0.416667  \n",
       "26527        0.216216          0.540541  \n",
       "\n",
       "[26528 rows x 141 columns]"
      ]
     },
     "execution_count": 44,
     "metadata": {},
     "output_type": "execute_result"
    }
   ],
   "source": [
    "data"
   ]
  },
  {
   "cell_type": "code",
   "execution_count": 45,
   "metadata": {},
   "outputs": [
    {
     "data": {
      "text/plain": [
       "['Unnamed: 0',\n",
       " 'league_key',\n",
       " 'league_name',\n",
       " 'year',\n",
       " 'season',\n",
       " 'matchday',\n",
       " 'date',\n",
       " 'ta_key',\n",
       " 'tb_key',\n",
       " 'link',\n",
       " 'ta_name',\n",
       " 'ta_short',\n",
       " 'tb_name',\n",
       " 'tb_short',\n",
       " 'ta_goals',\n",
       " 'tb_goals',\n",
       " 'ta_goals_ht',\n",
       " 'tb_goals_ht',\n",
       " 'ta_possesion',\n",
       " 'tb_possesion',\n",
       " 'ta_attemps',\n",
       " 'tb_attemps',\n",
       " 'ta_missed',\n",
       " 'tb_missed',\n",
       " 'ta_offsite',\n",
       " 'tb_offsite',\n",
       " 'ta_held',\n",
       " 'tb_held',\n",
       " 'ta_fouls',\n",
       " 'tb_fouls',\n",
       " 'ta_passes',\n",
       " 'tb_passes',\n",
       " 'ta_yellow',\n",
       " 'tb_yellow',\n",
       " 'ta_red',\n",
       " 'tb_red',\n",
       " 'ta_players',\n",
       " 'tb_players',\n",
       " 'ta_tactic',\n",
       " 'tb_tactic',\n",
       " 'ta_freekicks',\n",
       " 'tb_freekicks',\n",
       " 'ta_corners',\n",
       " 'tb_corners',\n",
       " 'ta_rating',\n",
       " 'tb_rating',\n",
       " 'ta_tackles',\n",
       " 'tb_tackles',\n",
       " 'ta_st_place',\n",
       " 'ta_st_points',\n",
       " 'ta_st_goals',\n",
       " 'ta_st_against',\n",
       " 'tb_st_place',\n",
       " 'tb_st_points',\n",
       " 'tb_st_goals',\n",
       " 'tb_st_against',\n",
       " 'Date',\n",
       " 'Time',\n",
       " 'ta_FTG',\n",
       " 'tb_FTG',\n",
       " 'ta_HTG',\n",
       " 'tb_HTG',\n",
       " 'ta_S',\n",
       " 'tb_S',\n",
       " 'ta_ST',\n",
       " 'tb_ST',\n",
       " 'ta_F',\n",
       " 'tb_F',\n",
       " 'ta_C',\n",
       " 'tb_C',\n",
       " 'ta_Y',\n",
       " 'tb_Y',\n",
       " 'ta_R',\n",
       " 'tb_R',\n",
       " 'ta_B365',\n",
       " 'draw_B365',\n",
       " 'tb_B365',\n",
       " 'ta_Avg',\n",
       " 'draw_Avg',\n",
       " 'tb_Avg',\n",
       " 'game_id',\n",
       " 'home',\n",
       " 'result',\n",
       " 'ta_result',\n",
       " 'ta_win',\n",
       " 'ta_draw',\n",
       " 'ta_points',\n",
       " 'ta_loss',\n",
       " 'ta_odds',\n",
       " 'tb_odds',\n",
       " 'draw_odds',\n",
       " 'ta_st_place_prev',\n",
       " 'ta_st_points_prev',\n",
       " 'ta_st_goals_prev',\n",
       " 'ta_st_against_prev',\n",
       " 'matchday_prev_x',\n",
       " 'ta_st_place_prev_ratio',\n",
       " 'ta_st_points_prev_ratio',\n",
       " 'ta_st_goals_prev_ratio',\n",
       " 'ta_st_against_prev_ratio',\n",
       " 'ta_lm_goals_avg',\n",
       " 'ta_lm_result_avg',\n",
       " 'ta_lm_win_avg',\n",
       " 'ta_lm_points_avg',\n",
       " 'ta_lm_odds_avg',\n",
       " 'ta_lm_goals_wavg',\n",
       " 'ta_lm_result_wavg',\n",
       " 'ta_lm_win_wavg',\n",
       " 'ta_lm_points_wavg',\n",
       " 'ta_lm_odds_wavg',\n",
       " 'ta_em_count',\n",
       " 'ta_em_goals_avg',\n",
       " 'ta_em_result_avg',\n",
       " 'ta_em_win_avg',\n",
       " 'ta_em_draw_avg',\n",
       " 'ta_em_points_avg',\n",
       " 'tb_st_place_prev',\n",
       " 'tb_st_points_prev',\n",
       " 'tb_st_goals_prev',\n",
       " 'tb_st_against_prev',\n",
       " 'matchday_prev_y',\n",
       " 'tb_st_place_prev_ratio',\n",
       " 'tb_st_points_prev_ratio',\n",
       " 'tb_st_goals_prev_ratio',\n",
       " 'tb_st_against_prev_ratio',\n",
       " 'tb_lm_goals_avg',\n",
       " 'tb_lm_result_avg',\n",
       " 'tb_lm_win_avg',\n",
       " 'tb_lm_points_avg',\n",
       " 'tb_lm_odds_avg',\n",
       " 'tb_lm_goals_wavg',\n",
       " 'tb_lm_result_wavg',\n",
       " 'tb_lm_win_wavg',\n",
       " 'tb_lm_points_wavg',\n",
       " 'tb_lm_odds_wavg',\n",
       " 'tb_em_count',\n",
       " 'tb_em_goals_avg',\n",
       " 'tb_em_result_avg',\n",
       " 'tb_em_win_avg',\n",
       " 'tb_em_draw_avg',\n",
       " 'tb_em_points_avg']"
      ]
     },
     "execution_count": 45,
     "metadata": {},
     "output_type": "execute_result"
    }
   ],
   "source": [
    "list(data.columns)"
   ]
  },
  {
   "cell_type": "code",
   "execution_count": null,
   "metadata": {},
   "outputs": [],
   "source": []
  },
  {
   "cell_type": "code",
   "execution_count": 46,
   "metadata": {},
   "outputs": [],
   "source": [
    "FEATURES_DIRECT = [\n",
    "    'home',\n",
    "    'matchday', \n",
    "    'ta_odds',\n",
    "    'tb_odds',\n",
    "    'draw_odds',\n",
    "]\n",
    "\n",
    "FEATURES_ST = [\n",
    "    'ta_st_place_prev',\n",
    "    'ta_st_points_prev',\n",
    "    'ta_st_goals_prev',\n",
    "    'ta_st_against_prev',\n",
    "    'ta_st_place_prev_ratio',\n",
    "    'ta_st_points_prev_ratio',\n",
    "    'ta_st_goals_prev_ratio',\n",
    "    'ta_st_against_prev_ratio',\n",
    "]\n",
    "\n",
    "FEATURES_LM = [\n",
    "    'ta_lm_goals_avg',\n",
    "    'ta_lm_result_avg',\n",
    "    'ta_lm_win_avg',\n",
    "    'ta_lm_points_avg',\n",
    "    'ta_lm_odds_avg',\n",
    "    'ta_lm_goals_wavg',\n",
    "    'ta_lm_result_wavg',\n",
    "    'ta_lm_win_wavg',\n",
    "    'ta_lm_points_wavg',\n",
    "    'ta_lm_odds_wavg',\n",
    "]\n",
    "\n",
    "FEATURES_EM = [\n",
    "    'ta_em_goals_avg',\n",
    "    'ta_em_result_avg',\n",
    "    'ta_em_win_avg',\n",
    "    'ta_em_draw_avg',\n",
    "    'ta_em_points_avg',\n",
    "]"
   ]
  },
  {
   "cell_type": "code",
   "execution_count": 47,
   "metadata": {},
   "outputs": [],
   "source": [
    "def rep(x):\n",
    "    return x.replace('ta_','tb_')"
   ]
  },
  {
   "cell_type": "code",
   "execution_count": 48,
   "metadata": {},
   "outputs": [],
   "source": [
    "FEATURES_TA = FEATURES_ST + FEATURES_LM + FEATURES_EM\n",
    "FEATURES_TB = list(map( rep, FEATURES_TA ))\n",
    "FEATURES = FEATURES_DIRECT + FEATURES_TA + FEATURES_TB"
   ]
  },
  {
   "cell_type": "code",
   "execution_count": null,
   "metadata": {},
   "outputs": [],
   "source": []
  },
  {
   "cell_type": "code",
   "execution_count": 49,
   "metadata": {},
   "outputs": [],
   "source": [
    "MAX_EPOCHS = 5000\n",
    "STOPPING = 100"
   ]
  },
  {
   "cell_type": "code",
   "execution_count": 50,
   "metadata": {},
   "outputs": [],
   "source": [
    "params = {}\n",
    "params['boosting'] = 'gbdt'\n",
    "params['learning_rate'] = 0.1\n",
    "params['application'] = 'multiclass'\n",
    "#params['metric'] = 'binary_logloss'\n",
    "#params['max_depth'] = -1\n",
    "#params['num_leaves'] = 64\n",
    "#params['max_bin'] = 512\n",
    "params['feature_fraction'] = 0.75\n",
    "params['bagging_fraction'] = 0.75\n",
    "#params['min_data_in_leaf'] = 20\n",
    "#params['verbosity'] = 0\n",
    "\n",
    "#ensure_dir( BASE_PATH + SET + 'lgbm/' )\n",
    "#model.save_model( BASE_PATH + SET + 'lgbm/'+ALGKEY+'.'+str(i)+'.txt' , num_iteration=model.best_iteration, )"
   ]
  },
  {
   "cell_type": "code",
   "execution_count": null,
   "metadata": {},
   "outputs": [],
   "source": []
  },
  {
   "cell_type": "code",
   "execution_count": 51,
   "metadata": {},
   "outputs": [],
   "source": [
    "data['ta_goals_diff'] = data['ta_goals'] - data['tb_goals']"
   ]
  },
  {
   "cell_type": "code",
   "execution_count": 52,
   "metadata": {},
   "outputs": [],
   "source": [
    "data['result_label'] = data['result'] + 1 "
   ]
  },
  {
   "cell_type": "code",
   "execution_count": 53,
   "metadata": {},
   "outputs": [],
   "source": [
    "train, test = train_test_split(data, test_size=0.2)"
   ]
  },
  {
   "cell_type": "markdown",
   "metadata": {},
   "source": [
    "# TRAIN MULTICLASS"
   ]
  },
  {
   "cell_type": "code",
   "execution_count": 54,
   "metadata": {},
   "outputs": [],
   "source": [
    "TARGET = 'result_label'"
   ]
  },
  {
   "cell_type": "code",
   "execution_count": 55,
   "metadata": {},
   "outputs": [],
   "source": [
    "params['application'] = 'multiclass'\n",
    "params['num_classes'] = 3"
   ]
  },
  {
   "cell_type": "code",
   "execution_count": 56,
   "metadata": {},
   "outputs": [],
   "source": [
    "train_tr, train_val = train_test_split(train, test_size=0.2)"
   ]
  },
  {
   "cell_type": "code",
   "execution_count": 57,
   "metadata": {},
   "outputs": [],
   "source": [
    "d_train = lgbm.Dataset( train_tr[FEATURES], label=train_tr[TARGET], feature_name=FEATURES )#+ ['session_id'])#, categorical_feature=CAT_FEATURES )\n",
    "d_valid = lgbm.Dataset( train_val[FEATURES], label=train_val[TARGET], feature_name=FEATURES )#+ ['session_id'])#, categorical_feature=CAT_FEATURES ) "
   ]
  },
  {
   "cell_type": "code",
   "execution_count": 58,
   "metadata": {},
   "outputs": [],
   "source": [
    "watchlist = (d_train,d_valid)\n",
    "evals_result = {}"
   ]
  },
  {
   "cell_type": "code",
   "execution_count": 59,
   "metadata": {},
   "outputs": [
    {
     "name": "stderr",
     "output_type": "stream",
     "text": [
      "/Users/malte.ludewig/Development/software/miniconda3/lib/python3.9/site-packages/lightgbm/engine.py:181: UserWarning: 'early_stopping_rounds' argument is deprecated and will be removed in a future release of LightGBM. Pass 'early_stopping()' callback via 'callbacks' argument instead.\n",
      "  _log_warning(\"'early_stopping_rounds' argument is deprecated and will be removed in a future release of LightGBM. \"\n",
      "/Users/malte.ludewig/Development/software/miniconda3/lib/python3.9/site-packages/lightgbm/engine.py:239: UserWarning: 'verbose_eval' argument is deprecated and will be removed in a future release of LightGBM. Pass 'log_evaluation()' callback via 'callbacks' argument instead.\n",
      "  _log_warning(\"'verbose_eval' argument is deprecated and will be removed in a future release of LightGBM. \"\n",
      "/Users/malte.ludewig/Development/software/miniconda3/lib/python3.9/site-packages/lightgbm/engine.py:260: UserWarning: 'evals_result' argument is deprecated and will be removed in a future release of LightGBM. Pass 'record_evaluation()' callback via 'callbacks' argument instead.\n",
      "  _log_warning(\"'evals_result' argument is deprecated and will be removed in a future release of LightGBM. \"\n"
     ]
    },
    {
     "name": "stdout",
     "output_type": "stream",
     "text": [
      "[LightGBM] [Warning] Auto-choosing col-wise multi-threading, the overhead of testing was 0.002935 seconds.\n",
      "You can set `force_col_wise=true` to remove the overhead.\n",
      "[LightGBM] [Info] Total Bins 8514\n",
      "[LightGBM] [Info] Number of data points in the train set: 16977, number of used features: 51\n",
      "[LightGBM] [Info] Start training from score -0.982775\n",
      "[LightGBM] [Info] Start training from score -1.385647\n",
      "[LightGBM] [Info] Start training from score -0.979319\n",
      "Training until validation scores don't improve for 100 rounds\n",
      "[10]\ttraining's multi_logloss: 0.941621\tvalid_1's multi_logloss: 0.964462\n",
      "[20]\ttraining's multi_logloss: 0.89958\tvalid_1's multi_logloss: 0.949441\n",
      "[30]\ttraining's multi_logloss: 0.870458\tvalid_1's multi_logloss: 0.946962\n",
      "[40]\ttraining's multi_logloss: 0.845619\tvalid_1's multi_logloss: 0.947519\n",
      "[50]\ttraining's multi_logloss: 0.823235\tvalid_1's multi_logloss: 0.948173\n",
      "[60]\ttraining's multi_logloss: 0.802817\tvalid_1's multi_logloss: 0.94787\n",
      "[70]\ttraining's multi_logloss: 0.78322\tvalid_1's multi_logloss: 0.949161\n",
      "[80]\ttraining's multi_logloss: 0.76432\tvalid_1's multi_logloss: 0.95036\n",
      "[90]\ttraining's multi_logloss: 0.745711\tvalid_1's multi_logloss: 0.950904\n",
      "[100]\ttraining's multi_logloss: 0.727856\tvalid_1's multi_logloss: 0.951356\n",
      "[110]\ttraining's multi_logloss: 0.710736\tvalid_1's multi_logloss: 0.952062\n",
      "[120]\ttraining's multi_logloss: 0.694468\tvalid_1's multi_logloss: 0.952833\n",
      "[130]\ttraining's multi_logloss: 0.678164\tvalid_1's multi_logloss: 0.953614\n",
      "Early stopping, best iteration is:\n",
      "[35]\ttraining's multi_logloss: 0.857432\tvalid_1's multi_logloss: 0.946474\n"
     ]
    }
   ],
   "source": [
    "model = lgbm.train( params, train_set=d_train, num_boost_round=MAX_EPOCHS, valid_sets=watchlist, early_stopping_rounds=STOPPING, evals_result=evals_result, verbose_eval=10 )"
   ]
  },
  {
   "cell_type": "code",
   "execution_count": 60,
   "metadata": {},
   "outputs": [
    {
     "data": {
      "text/plain": [
       "<AxesSubplot:title={'center':'Feature importance'}, xlabel='Feature importance', ylabel='Features'>"
      ]
     },
     "execution_count": 60,
     "metadata": {},
     "output_type": "execute_result"
    },
    {
     "data": {
      "image/png": "[encoded data removed]",
      "text/plain": [
       "<Figure size 432x288 with 1 Axes>"
      ]
     },
     "metadata": {
      "needs_background": "light"
     },
     "output_type": "display_data"
    }
   ],
   "source": [
    "lgbm.plot_importance(model, max_num_features=15)"
   ]
  },
  {
   "cell_type": "code",
   "execution_count": 61,
   "metadata": {},
   "outputs": [],
   "source": [
    "X_test = test[ FEATURES ].values.astype(np.float32)\n",
    "y_prob = model.predict(X_test, num_iteration=model.best_iteration )"
   ]
  },
  {
   "cell_type": "code",
   "execution_count": 62,
   "metadata": {},
   "outputs": [],
   "source": [
    "y_pred = np.argmax(y_prob, axis=1)\n",
    "test['result_label_pred'] = y_pred"
   ]
  },
  {
   "cell_type": "code",
   "execution_count": 63,
   "metadata": {},
   "outputs": [
    {
     "name": "stdout",
     "output_type": "stream",
     "text": [
      "              precision    recall  f1-score   support\n",
      "\n",
      "           0       0.54      0.70      0.61      1954\n",
      "           1       0.50      0.09      0.15      1364\n",
      "           2       0.54      0.70      0.61      1988\n",
      "\n",
      "    accuracy                           0.54      5306\n",
      "   macro avg       0.53      0.49      0.46      5306\n",
      "weighted avg       0.53      0.54      0.49      5306\n",
      "\n"
     ]
    }
   ],
   "source": [
    "print(classification_report(test[ TARGET ], y_pred))"
   ]
  },
  {
   "cell_type": "code",
   "execution_count": 64,
   "metadata": {},
   "outputs": [
    {
     "data": {
      "text/html": [
       "<div>\n",
       "<style scoped>\n",
       "    .dataframe tbody tr th:only-of-type {\n",
       "        vertical-align: middle;\n",
       "    }\n",
       "\n",
       "    .dataframe tbody tr th {\n",
       "        vertical-align: top;\n",
       "    }\n",
       "\n",
       "    .dataframe thead th {\n",
       "        text-align: right;\n",
       "    }\n",
       "</style>\n",
       "<table border=\"1\" class=\"dataframe\">\n",
       "  <thead>\n",
       "    <tr style=\"text-align: right;\">\n",
       "      <th></th>\n",
       "      <th>result_label</th>\n",
       "      <th>result_label_pred</th>\n",
       "      <th>ta_odds</th>\n",
       "      <th>draw_odds</th>\n",
       "      <th>tb_odds</th>\n",
       "    </tr>\n",
       "  </thead>\n",
       "  <tbody>\n",
       "    <tr>\n",
       "      <th>25405</th>\n",
       "      <td>2</td>\n",
       "      <td>2</td>\n",
       "      <td>2.24</td>\n",
       "      <td>3.10</td>\n",
       "      <td>3.63</td>\n",
       "    </tr>\n",
       "    <tr>\n",
       "      <th>22848</th>\n",
       "      <td>1</td>\n",
       "      <td>2</td>\n",
       "      <td>1.67</td>\n",
       "      <td>3.60</td>\n",
       "      <td>5.75</td>\n",
       "    </tr>\n",
       "    <tr>\n",
       "      <th>3149</th>\n",
       "      <td>1</td>\n",
       "      <td>0</td>\n",
       "      <td>4.13</td>\n",
       "      <td>3.60</td>\n",
       "      <td>1.84</td>\n",
       "    </tr>\n",
       "    <tr>\n",
       "      <th>11763</th>\n",
       "      <td>0</td>\n",
       "      <td>0</td>\n",
       "      <td>4.56</td>\n",
       "      <td>4.01</td>\n",
       "      <td>1.75</td>\n",
       "    </tr>\n",
       "    <tr>\n",
       "      <th>9448</th>\n",
       "      <td>0</td>\n",
       "      <td>2</td>\n",
       "      <td>1.36</td>\n",
       "      <td>5.25</td>\n",
       "      <td>9.50</td>\n",
       "    </tr>\n",
       "    <tr>\n",
       "      <th>...</th>\n",
       "      <td>...</td>\n",
       "      <td>...</td>\n",
       "      <td>...</td>\n",
       "      <td>...</td>\n",
       "      <td>...</td>\n",
       "    </tr>\n",
       "    <tr>\n",
       "      <th>20141</th>\n",
       "      <td>1</td>\n",
       "      <td>2</td>\n",
       "      <td>2.26</td>\n",
       "      <td>3.61</td>\n",
       "      <td>3.01</td>\n",
       "    </tr>\n",
       "    <tr>\n",
       "      <th>17077</th>\n",
       "      <td>2</td>\n",
       "      <td>2</td>\n",
       "      <td>1.53</td>\n",
       "      <td>4.28</td>\n",
       "      <td>6.20</td>\n",
       "    </tr>\n",
       "    <tr>\n",
       "      <th>19605</th>\n",
       "      <td>0</td>\n",
       "      <td>2</td>\n",
       "      <td>1.44</td>\n",
       "      <td>4.75</td>\n",
       "      <td>7.00</td>\n",
       "    </tr>\n",
       "    <tr>\n",
       "      <th>11981</th>\n",
       "      <td>1</td>\n",
       "      <td>1</td>\n",
       "      <td>3.30</td>\n",
       "      <td>3.00</td>\n",
       "      <td>2.40</td>\n",
       "    </tr>\n",
       "    <tr>\n",
       "      <th>1582</th>\n",
       "      <td>1</td>\n",
       "      <td>2</td>\n",
       "      <td>2.75</td>\n",
       "      <td>3.60</td>\n",
       "      <td>2.37</td>\n",
       "    </tr>\n",
       "  </tbody>\n",
       "</table>\n",
       "<p>5306 rows × 5 columns</p>\n",
       "</div>"
      ],
      "text/plain": [
       "       result_label  result_label_pred  ta_odds  draw_odds  tb_odds\n",
       "25405             2                  2     2.24       3.10     3.63\n",
       "22848             1                  2     1.67       3.60     5.75\n",
       "3149              1                  0     4.13       3.60     1.84\n",
       "11763             0                  0     4.56       4.01     1.75\n",
       "9448              0                  2     1.36       5.25     9.50\n",
       "...             ...                ...      ...        ...      ...\n",
       "20141             1                  2     2.26       3.61     3.01\n",
       "17077             2                  2     1.53       4.28     6.20\n",
       "19605             0                  2     1.44       4.75     7.00\n",
       "11981             1                  1     3.30       3.00     2.40\n",
       "1582              1                  2     2.75       3.60     2.37\n",
       "\n",
       "[5306 rows x 5 columns]"
      ]
     },
     "execution_count": 64,
     "metadata": {},
     "output_type": "execute_result"
    }
   ],
   "source": [
    "test[['result_label','result_label_pred','ta_odds','draw_odds','tb_odds']]"
   ]
  },
  {
   "cell_type": "code",
   "execution_count": null,
   "metadata": {},
   "outputs": [],
   "source": []
  },
  {
   "cell_type": "markdown",
   "metadata": {},
   "source": [
    "# TRAIN GOALS"
   ]
  },
  {
   "cell_type": "code",
   "execution_count": 65,
   "metadata": {},
   "outputs": [],
   "source": [
    "TARGET = 'ta_goals'"
   ]
  },
  {
   "cell_type": "code",
   "execution_count": 66,
   "metadata": {},
   "outputs": [],
   "source": [
    "params['application'] = 'regression'\n",
    "params['num_classes'] = 1"
   ]
  },
  {
   "cell_type": "code",
   "execution_count": 67,
   "metadata": {},
   "outputs": [],
   "source": [
    "train_tr, train_val = train_test_split(train, test_size=0.2)"
   ]
  },
  {
   "cell_type": "code",
   "execution_count": 68,
   "metadata": {},
   "outputs": [],
   "source": [
    "d_train = lgbm.Dataset( train_tr[FEATURES], label=train_tr[TARGET], feature_name=FEATURES )#+ ['session_id'])#, categorical_feature=CAT_FEATURES )\n",
    "d_valid = lgbm.Dataset( train_val[FEATURES], label=train_val[TARGET], feature_name=FEATURES )#+ ['session_id'])#, categorical_feature=CAT_FEATURES ) "
   ]
  },
  {
   "cell_type": "code",
   "execution_count": 69,
   "metadata": {},
   "outputs": [],
   "source": [
    "watchlist = (d_train,d_valid)\n",
    "evals_result = {}"
   ]
  },
  {
   "cell_type": "code",
   "execution_count": 70,
   "metadata": {},
   "outputs": [
    {
     "name": "stderr",
     "output_type": "stream",
     "text": [
      "/Users/malte.ludewig/Development/software/miniconda3/lib/python3.9/site-packages/lightgbm/engine.py:181: UserWarning: 'early_stopping_rounds' argument is deprecated and will be removed in a future release of LightGBM. Pass 'early_stopping()' callback via 'callbacks' argument instead.\n",
      "  _log_warning(\"'early_stopping_rounds' argument is deprecated and will be removed in a future release of LightGBM. \"\n",
      "/Users/malte.ludewig/Development/software/miniconda3/lib/python3.9/site-packages/lightgbm/engine.py:239: UserWarning: 'verbose_eval' argument is deprecated and will be removed in a future release of LightGBM. Pass 'log_evaluation()' callback via 'callbacks' argument instead.\n",
      "  _log_warning(\"'verbose_eval' argument is deprecated and will be removed in a future release of LightGBM. \"\n",
      "/Users/malte.ludewig/Development/software/miniconda3/lib/python3.9/site-packages/lightgbm/engine.py:260: UserWarning: 'evals_result' argument is deprecated and will be removed in a future release of LightGBM. Pass 'record_evaluation()' callback via 'callbacks' argument instead.\n",
      "  _log_warning(\"'evals_result' argument is deprecated and will be removed in a future release of LightGBM. \"\n"
     ]
    },
    {
     "name": "stdout",
     "output_type": "stream",
     "text": [
      "[LightGBM] [Warning] Auto-choosing col-wise multi-threading, the overhead of testing was 0.003508 seconds.\n",
      "You can set `force_col_wise=true` to remove the overhead.\n",
      "[LightGBM] [Info] Total Bins 8494\n",
      "[LightGBM] [Info] Number of data points in the train set: 16977, number of used features: 51\n",
      "[LightGBM] [Info] Start training from score 1.388820\n",
      "Training until validation scores don't improve for 100 rounds\n",
      "[10]\ttraining's l2: 1.2772\tvalid_1's l2: 1.30599\n",
      "[20]\ttraining's l2: 1.20061\tvalid_1's l2: 1.27465\n",
      "[30]\ttraining's l2: 1.15903\tvalid_1's l2: 1.26857\n",
      "[40]\ttraining's l2: 1.12255\tvalid_1's l2: 1.26602\n",
      "[50]\ttraining's l2: 1.09224\tvalid_1's l2: 1.26397\n",
      "[60]\ttraining's l2: 1.06353\tvalid_1's l2: 1.26446\n",
      "[70]\ttraining's l2: 1.03884\tvalid_1's l2: 1.26766\n",
      "[80]\ttraining's l2: 1.01283\tvalid_1's l2: 1.26962\n",
      "[90]\ttraining's l2: 0.988865\tvalid_1's l2: 1.27176\n",
      "[100]\ttraining's l2: 0.966866\tvalid_1's l2: 1.27375\n",
      "[110]\ttraining's l2: 0.944426\tvalid_1's l2: 1.27422\n",
      "[120]\ttraining's l2: 0.923869\tvalid_1's l2: 1.27551\n",
      "[130]\ttraining's l2: 0.901541\tvalid_1's l2: 1.27471\n",
      "[140]\ttraining's l2: 0.88328\tvalid_1's l2: 1.27597\n",
      "Early stopping, best iteration is:\n",
      "[46]\ttraining's l2: 1.10429\tvalid_1's l2: 1.26349\n"
     ]
    }
   ],
   "source": [
    "model = lgbm.train( params, train_set=d_train, num_boost_round=MAX_EPOCHS, valid_sets=watchlist, early_stopping_rounds=STOPPING, evals_result=evals_result, verbose_eval=10 )"
   ]
  },
  {
   "cell_type": "code",
   "execution_count": 71,
   "metadata": {},
   "outputs": [
    {
     "data": {
      "text/plain": [
       "<AxesSubplot:title={'center':'Feature importance'}, xlabel='Feature importance', ylabel='Features'>"
      ]
     },
     "execution_count": 71,
     "metadata": {},
     "output_type": "execute_result"
    },
    {
     "data": {
      "image/png": "[encoded data removed]",
      "text/plain": [
       "<Figure size 432x288 with 1 Axes>"
      ]
     },
     "metadata": {
      "needs_background": "light"
     },
     "output_type": "display_data"
    }
   ],
   "source": [
    "lgbm.plot_importance(model, max_num_features=15)"
   ]
  },
  {
   "cell_type": "code",
   "execution_count": 72,
   "metadata": {},
   "outputs": [],
   "source": [
    "X_test = test[ FEATURES ].values.astype(np.float32)\n",
    "y_pred = model.predict(X_test, num_iteration=model.best_iteration )"
   ]
  },
  {
   "cell_type": "code",
   "execution_count": 73,
   "metadata": {},
   "outputs": [],
   "source": [
    "test['ta_goals_pred'] = y_pred"
   ]
  },
  {
   "cell_type": "code",
   "execution_count": 74,
   "metadata": {},
   "outputs": [
    {
     "data": {
      "text/plain": [
       "0.15422635711093224"
      ]
     },
     "execution_count": 74,
     "metadata": {},
     "output_type": "execute_result"
    }
   ],
   "source": [
    "r2_score(test[TARGET],y_pred)"
   ]
  },
  {
   "cell_type": "code",
   "execution_count": 75,
   "metadata": {},
   "outputs": [
    {
     "data": {
      "text/plain": [
       "1.2981448319576012"
      ]
     },
     "execution_count": 75,
     "metadata": {},
     "output_type": "execute_result"
    }
   ],
   "source": [
    "mean_squared_error(test[TARGET],y_pred)"
   ]
  },
  {
   "cell_type": "code",
   "execution_count": 76,
   "metadata": {},
   "outputs": [
    {
     "data": {
      "text/plain": [
       "0.8846413413642011"
      ]
     },
     "execution_count": 76,
     "metadata": {},
     "output_type": "execute_result"
    }
   ],
   "source": [
    "mean_absolute_error(test[TARGET],y_pred)"
   ]
  },
  {
   "cell_type": "code",
   "execution_count": 77,
   "metadata": {},
   "outputs": [
    {
     "data": {
      "text/plain": [
       "1396732097302394.0"
      ]
     },
     "execution_count": 77,
     "metadata": {},
     "output_type": "execute_result"
    }
   ],
   "source": [
    "mean_absolute_percentage_error(test[TARGET],y_pred)"
   ]
  },
  {
   "cell_type": "code",
   "execution_count": 78,
   "metadata": {},
   "outputs": [
    {
     "data": {
      "text/html": [
       "<div>\n",
       "<style scoped>\n",
       "    .dataframe tbody tr th:only-of-type {\n",
       "        vertical-align: middle;\n",
       "    }\n",
       "\n",
       "    .dataframe tbody tr th {\n",
       "        vertical-align: top;\n",
       "    }\n",
       "\n",
       "    .dataframe thead th {\n",
       "        text-align: right;\n",
       "    }\n",
       "</style>\n",
       "<table border=\"1\" class=\"dataframe\">\n",
       "  <thead>\n",
       "    <tr style=\"text-align: right;\">\n",
       "      <th></th>\n",
       "      <th>ta_goals</th>\n",
       "      <th>ta_goals_pred</th>\n",
       "      <th>tb_goals</th>\n",
       "      <th>ta_odds</th>\n",
       "      <th>draw_odds</th>\n",
       "      <th>tb_odds</th>\n",
       "    </tr>\n",
       "  </thead>\n",
       "  <tbody>\n",
       "    <tr>\n",
       "      <th>25405</th>\n",
       "      <td>3</td>\n",
       "      <td>1.324321</td>\n",
       "      <td>2</td>\n",
       "      <td>2.24</td>\n",
       "      <td>3.10</td>\n",
       "      <td>3.63</td>\n",
       "    </tr>\n",
       "    <tr>\n",
       "      <th>22848</th>\n",
       "      <td>3</td>\n",
       "      <td>1.771368</td>\n",
       "      <td>3</td>\n",
       "      <td>1.67</td>\n",
       "      <td>3.60</td>\n",
       "      <td>5.75</td>\n",
       "    </tr>\n",
       "    <tr>\n",
       "      <th>3149</th>\n",
       "      <td>0</td>\n",
       "      <td>1.023472</td>\n",
       "      <td>0</td>\n",
       "      <td>4.13</td>\n",
       "      <td>3.60</td>\n",
       "      <td>1.84</td>\n",
       "    </tr>\n",
       "    <tr>\n",
       "      <th>11763</th>\n",
       "      <td>0</td>\n",
       "      <td>0.967981</td>\n",
       "      <td>4</td>\n",
       "      <td>4.56</td>\n",
       "      <td>4.01</td>\n",
       "      <td>1.75</td>\n",
       "    </tr>\n",
       "    <tr>\n",
       "      <th>9448</th>\n",
       "      <td>1</td>\n",
       "      <td>2.390588</td>\n",
       "      <td>2</td>\n",
       "      <td>1.36</td>\n",
       "      <td>5.25</td>\n",
       "      <td>9.50</td>\n",
       "    </tr>\n",
       "    <tr>\n",
       "      <th>...</th>\n",
       "      <td>...</td>\n",
       "      <td>...</td>\n",
       "      <td>...</td>\n",
       "      <td>...</td>\n",
       "      <td>...</td>\n",
       "      <td>...</td>\n",
       "    </tr>\n",
       "    <tr>\n",
       "      <th>20141</th>\n",
       "      <td>2</td>\n",
       "      <td>1.942186</td>\n",
       "      <td>2</td>\n",
       "      <td>2.26</td>\n",
       "      <td>3.61</td>\n",
       "      <td>3.01</td>\n",
       "    </tr>\n",
       "    <tr>\n",
       "      <th>17077</th>\n",
       "      <td>4</td>\n",
       "      <td>1.913612</td>\n",
       "      <td>1</td>\n",
       "      <td>1.53</td>\n",
       "      <td>4.28</td>\n",
       "      <td>6.20</td>\n",
       "    </tr>\n",
       "    <tr>\n",
       "      <th>19605</th>\n",
       "      <td>1</td>\n",
       "      <td>2.042053</td>\n",
       "      <td>2</td>\n",
       "      <td>1.44</td>\n",
       "      <td>4.75</td>\n",
       "      <td>7.00</td>\n",
       "    </tr>\n",
       "    <tr>\n",
       "      <th>11981</th>\n",
       "      <td>0</td>\n",
       "      <td>1.100335</td>\n",
       "      <td>0</td>\n",
       "      <td>3.30</td>\n",
       "      <td>3.00</td>\n",
       "      <td>2.40</td>\n",
       "    </tr>\n",
       "    <tr>\n",
       "      <th>1582</th>\n",
       "      <td>2</td>\n",
       "      <td>1.526093</td>\n",
       "      <td>2</td>\n",
       "      <td>2.75</td>\n",
       "      <td>3.60</td>\n",
       "      <td>2.37</td>\n",
       "    </tr>\n",
       "  </tbody>\n",
       "</table>\n",
       "<p>5306 rows × 6 columns</p>\n",
       "</div>"
      ],
      "text/plain": [
       "       ta_goals  ta_goals_pred  tb_goals  ta_odds  draw_odds  tb_odds\n",
       "25405         3       1.324321         2     2.24       3.10     3.63\n",
       "22848         3       1.771368         3     1.67       3.60     5.75\n",
       "3149          0       1.023472         0     4.13       3.60     1.84\n",
       "11763         0       0.967981         4     4.56       4.01     1.75\n",
       "9448          1       2.390588         2     1.36       5.25     9.50\n",
       "...         ...            ...       ...      ...        ...      ...\n",
       "20141         2       1.942186         2     2.26       3.61     3.01\n",
       "17077         4       1.913612         1     1.53       4.28     6.20\n",
       "19605         1       2.042053         2     1.44       4.75     7.00\n",
       "11981         0       1.100335         0     3.30       3.00     2.40\n",
       "1582          2       1.526093         2     2.75       3.60     2.37\n",
       "\n",
       "[5306 rows x 6 columns]"
      ]
     },
     "execution_count": 78,
     "metadata": {},
     "output_type": "execute_result"
    }
   ],
   "source": [
    "test[['ta_goals','ta_goals_pred','tb_goals','ta_odds','draw_odds','tb_odds']]"
   ]
  },
  {
   "cell_type": "markdown",
   "metadata": {},
   "source": [
    "# TRAIN GOAL DIFF"
   ]
  },
  {
   "cell_type": "code",
   "execution_count": 79,
   "metadata": {},
   "outputs": [],
   "source": [
    "TARGET = 'ta_goals_diff'"
   ]
  },
  {
   "cell_type": "code",
   "execution_count": 80,
   "metadata": {},
   "outputs": [],
   "source": [
    "params['application'] = 'regression'\n",
    "params['num_classes'] = 1"
   ]
  },
  {
   "cell_type": "code",
   "execution_count": 81,
   "metadata": {},
   "outputs": [],
   "source": [
    "train_tr, train_val = train_test_split(train, test_size=0.2)"
   ]
  },
  {
   "cell_type": "code",
   "execution_count": 82,
   "metadata": {},
   "outputs": [],
   "source": [
    "d_train = lgbm.Dataset( train_tr[FEATURES], label=train_tr[TARGET], feature_name=FEATURES )#+ ['session_id'])#, categorical_feature=CAT_FEATURES )\n",
    "d_valid = lgbm.Dataset( train_val[FEATURES], label=train_val[TARGET], feature_name=FEATURES )#+ ['session_id'])#, categorical_feature=CAT_FEATURES ) "
   ]
  },
  {
   "cell_type": "code",
   "execution_count": 83,
   "metadata": {},
   "outputs": [],
   "source": [
    "watchlist = (d_train,d_valid)\n",
    "evals_result = {}"
   ]
  },
  {
   "cell_type": "code",
   "execution_count": 84,
   "metadata": {},
   "outputs": [
    {
     "name": "stderr",
     "output_type": "stream",
     "text": [
      "/Users/malte.ludewig/Development/software/miniconda3/lib/python3.9/site-packages/lightgbm/engine.py:181: UserWarning: 'early_stopping_rounds' argument is deprecated and will be removed in a future release of LightGBM. Pass 'early_stopping()' callback via 'callbacks' argument instead.\n",
      "  _log_warning(\"'early_stopping_rounds' argument is deprecated and will be removed in a future release of LightGBM. \"\n",
      "/Users/malte.ludewig/Development/software/miniconda3/lib/python3.9/site-packages/lightgbm/engine.py:239: UserWarning: 'verbose_eval' argument is deprecated and will be removed in a future release of LightGBM. Pass 'log_evaluation()' callback via 'callbacks' argument instead.\n",
      "  _log_warning(\"'verbose_eval' argument is deprecated and will be removed in a future release of LightGBM. \"\n",
      "/Users/malte.ludewig/Development/software/miniconda3/lib/python3.9/site-packages/lightgbm/engine.py:260: UserWarning: 'evals_result' argument is deprecated and will be removed in a future release of LightGBM. Pass 'record_evaluation()' callback via 'callbacks' argument instead.\n",
      "  _log_warning(\"'evals_result' argument is deprecated and will be removed in a future release of LightGBM. \"\n"
     ]
    },
    {
     "name": "stdout",
     "output_type": "stream",
     "text": [
      "[LightGBM] [Warning] Auto-choosing col-wise multi-threading, the overhead of testing was 0.002639 seconds.\n",
      "You can set `force_col_wise=true` to remove the overhead.\n",
      "[LightGBM] [Info] Total Bins 8502\n",
      "[LightGBM] [Info] Number of data points in the train set: 16977, number of used features: 51\n",
      "[LightGBM] [Info] Start training from score -0.002945\n",
      "Training until validation scores don't improve for 100 rounds\n",
      "[10]\ttraining's l2: 2.59928\tvalid_1's l2: 2.67787\n",
      "[20]\ttraining's l2: 2.41844\tvalid_1's l2: 2.55312\n",
      "[30]\ttraining's l2: 2.33149\tvalid_1's l2: 2.53472\n",
      "[40]\ttraining's l2: 2.26296\tvalid_1's l2: 2.53214\n",
      "[50]\ttraining's l2: 2.20206\tvalid_1's l2: 2.52943\n",
      "[60]\ttraining's l2: 2.15091\tvalid_1's l2: 2.53562\n",
      "[70]\ttraining's l2: 2.10042\tvalid_1's l2: 2.54087\n",
      "[80]\ttraining's l2: 2.05364\tvalid_1's l2: 2.54752\n",
      "[90]\ttraining's l2: 2.00976\tvalid_1's l2: 2.54924\n",
      "[100]\ttraining's l2: 1.96516\tvalid_1's l2: 2.55059\n",
      "[110]\ttraining's l2: 1.92187\tvalid_1's l2: 2.55085\n",
      "[120]\ttraining's l2: 1.88122\tvalid_1's l2: 2.5497\n",
      "[130]\ttraining's l2: 1.83727\tvalid_1's l2: 2.5542\n",
      "[140]\ttraining's l2: 1.79834\tvalid_1's l2: 2.55506\n",
      "Early stopping, best iteration is:\n",
      "[49]\ttraining's l2: 2.20842\tvalid_1's l2: 2.52878\n"
     ]
    }
   ],
   "source": [
    "model = lgbm.train( params, train_set=d_train, num_boost_round=MAX_EPOCHS, valid_sets=watchlist, early_stopping_rounds=STOPPING, evals_result=evals_result, verbose_eval=10 )"
   ]
  },
  {
   "cell_type": "code",
   "execution_count": 85,
   "metadata": {},
   "outputs": [
    {
     "data": {
      "text/plain": [
       "<AxesSubplot:title={'center':'Feature importance'}, xlabel='Feature importance', ylabel='Features'>"
      ]
     },
     "execution_count": 85,
     "metadata": {},
     "output_type": "execute_result"
    },
    {
     "data": {
      "image/png": "[encoded data removed]",
      "text/plain": [
       "<Figure size 432x288 with 1 Axes>"
      ]
     },
     "metadata": {
      "needs_background": "light"
     },
     "output_type": "display_data"
    }
   ],
   "source": [
    "lgbm.plot_importance(model, max_num_features=15)"
   ]
  },
  {
   "cell_type": "code",
   "execution_count": 86,
   "metadata": {},
   "outputs": [],
   "source": [
    "\n",
    "X_test = test[ FEATURES ].values.astype(np.float32)\n",
    "y_pred = model.predict(X_test, num_iteration=model.best_iteration )"
   ]
  },
  {
   "cell_type": "code",
   "execution_count": 87,
   "metadata": {},
   "outputs": [],
   "source": [
    "test['ta_goals_diff_pred'] = y_pred"
   ]
  },
  {
   "cell_type": "code",
   "execution_count": 88,
   "metadata": {},
   "outputs": [
    {
     "data": {
      "text/plain": [
       "0.2464361284848543"
      ]
     },
     "execution_count": 88,
     "metadata": {},
     "output_type": "execute_result"
    }
   ],
   "source": [
    "\n",
    "r2_score(test[TARGET],y_pred)"
   ]
  },
  {
   "cell_type": "code",
   "execution_count": 89,
   "metadata": {},
   "outputs": [
    {
     "data": {
      "text/plain": [
       "2.5969890029777933"
      ]
     },
     "execution_count": 89,
     "metadata": {},
     "output_type": "execute_result"
    }
   ],
   "source": [
    "\n",
    "mean_squared_error(test[TARGET],y_pred)"
   ]
  },
  {
   "cell_type": "code",
   "execution_count": 90,
   "metadata": {},
   "outputs": [
    {
     "data": {
      "text/plain": [
       "1.236663536262614"
      ]
     },
     "execution_count": 90,
     "metadata": {},
     "output_type": "execute_result"
    }
   ],
   "source": [
    "\n",
    "mean_absolute_error(test[TARGET],y_pred)"
   ]
  },
  {
   "cell_type": "code",
   "execution_count": 91,
   "metadata": {},
   "outputs": [
    {
     "data": {
      "text/plain": [
       "696971002734565.1"
      ]
     },
     "execution_count": 91,
     "metadata": {},
     "output_type": "execute_result"
    }
   ],
   "source": [
    "mean_absolute_percentage_error(test[TARGET],y_pred)"
   ]
  },
  {
   "cell_type": "code",
   "execution_count": 92,
   "metadata": {},
   "outputs": [
    {
     "data": {
      "text/html": [
       "<div>\n",
       "<style scoped>\n",
       "    .dataframe tbody tr th:only-of-type {\n",
       "        vertical-align: middle;\n",
       "    }\n",
       "\n",
       "    .dataframe tbody tr th {\n",
       "        vertical-align: top;\n",
       "    }\n",
       "\n",
       "    .dataframe thead th {\n",
       "        text-align: right;\n",
       "    }\n",
       "</style>\n",
       "<table border=\"1\" class=\"dataframe\">\n",
       "  <thead>\n",
       "    <tr style=\"text-align: right;\">\n",
       "      <th></th>\n",
       "      <th>ta_goals</th>\n",
       "      <th>ta_goals_diff</th>\n",
       "      <th>ta_goals_diff_pred</th>\n",
       "      <th>tb_goals</th>\n",
       "      <th>ta_odds</th>\n",
       "      <th>draw_odds</th>\n",
       "      <th>tb_odds</th>\n",
       "    </tr>\n",
       "  </thead>\n",
       "  <tbody>\n",
       "    <tr>\n",
       "      <th>25405</th>\n",
       "      <td>3</td>\n",
       "      <td>1</td>\n",
       "      <td>0.390326</td>\n",
       "      <td>2</td>\n",
       "      <td>2.24</td>\n",
       "      <td>3.10</td>\n",
       "      <td>3.63</td>\n",
       "    </tr>\n",
       "    <tr>\n",
       "      <th>22848</th>\n",
       "      <td>3</td>\n",
       "      <td>0</td>\n",
       "      <td>0.540013</td>\n",
       "      <td>3</td>\n",
       "      <td>1.67</td>\n",
       "      <td>3.60</td>\n",
       "      <td>5.75</td>\n",
       "    </tr>\n",
       "    <tr>\n",
       "      <th>3149</th>\n",
       "      <td>0</td>\n",
       "      <td>0</td>\n",
       "      <td>-0.581658</td>\n",
       "      <td>0</td>\n",
       "      <td>4.13</td>\n",
       "      <td>3.60</td>\n",
       "      <td>1.84</td>\n",
       "    </tr>\n",
       "    <tr>\n",
       "      <th>11763</th>\n",
       "      <td>0</td>\n",
       "      <td>-4</td>\n",
       "      <td>-0.839639</td>\n",
       "      <td>4</td>\n",
       "      <td>4.56</td>\n",
       "      <td>4.01</td>\n",
       "      <td>1.75</td>\n",
       "    </tr>\n",
       "    <tr>\n",
       "      <th>9448</th>\n",
       "      <td>1</td>\n",
       "      <td>-1</td>\n",
       "      <td>1.681688</td>\n",
       "      <td>2</td>\n",
       "      <td>1.36</td>\n",
       "      <td>5.25</td>\n",
       "      <td>9.50</td>\n",
       "    </tr>\n",
       "    <tr>\n",
       "      <th>...</th>\n",
       "      <td>...</td>\n",
       "      <td>...</td>\n",
       "      <td>...</td>\n",
       "      <td>...</td>\n",
       "      <td>...</td>\n",
       "      <td>...</td>\n",
       "      <td>...</td>\n",
       "    </tr>\n",
       "    <tr>\n",
       "      <th>20141</th>\n",
       "      <td>2</td>\n",
       "      <td>0</td>\n",
       "      <td>0.193224</td>\n",
       "      <td>2</td>\n",
       "      <td>2.26</td>\n",
       "      <td>3.61</td>\n",
       "      <td>3.01</td>\n",
       "    </tr>\n",
       "    <tr>\n",
       "      <th>17077</th>\n",
       "      <td>4</td>\n",
       "      <td>3</td>\n",
       "      <td>0.916085</td>\n",
       "      <td>1</td>\n",
       "      <td>1.53</td>\n",
       "      <td>4.28</td>\n",
       "      <td>6.20</td>\n",
       "    </tr>\n",
       "    <tr>\n",
       "      <th>19605</th>\n",
       "      <td>1</td>\n",
       "      <td>-1</td>\n",
       "      <td>1.482795</td>\n",
       "      <td>2</td>\n",
       "      <td>1.44</td>\n",
       "      <td>4.75</td>\n",
       "      <td>7.00</td>\n",
       "    </tr>\n",
       "    <tr>\n",
       "      <th>11981</th>\n",
       "      <td>0</td>\n",
       "      <td>0</td>\n",
       "      <td>-0.202580</td>\n",
       "      <td>0</td>\n",
       "      <td>3.30</td>\n",
       "      <td>3.00</td>\n",
       "      <td>2.40</td>\n",
       "    </tr>\n",
       "    <tr>\n",
       "      <th>1582</th>\n",
       "      <td>2</td>\n",
       "      <td>0</td>\n",
       "      <td>-0.041723</td>\n",
       "      <td>2</td>\n",
       "      <td>2.75</td>\n",
       "      <td>3.60</td>\n",
       "      <td>2.37</td>\n",
       "    </tr>\n",
       "  </tbody>\n",
       "</table>\n",
       "<p>5306 rows × 7 columns</p>\n",
       "</div>"
      ],
      "text/plain": [
       "       ta_goals  ta_goals_diff  ta_goals_diff_pred  tb_goals  ta_odds  \\\n",
       "25405         3              1            0.390326         2     2.24   \n",
       "22848         3              0            0.540013         3     1.67   \n",
       "3149          0              0           -0.581658         0     4.13   \n",
       "11763         0             -4           -0.839639         4     4.56   \n",
       "9448          1             -1            1.681688         2     1.36   \n",
       "...         ...            ...                 ...       ...      ...   \n",
       "20141         2              0            0.193224         2     2.26   \n",
       "17077         4              3            0.916085         1     1.53   \n",
       "19605         1             -1            1.482795         2     1.44   \n",
       "11981         0              0           -0.202580         0     3.30   \n",
       "1582          2              0           -0.041723         2     2.75   \n",
       "\n",
       "       draw_odds  tb_odds  \n",
       "25405       3.10     3.63  \n",
       "22848       3.60     5.75  \n",
       "3149        3.60     1.84  \n",
       "11763       4.01     1.75  \n",
       "9448        5.25     9.50  \n",
       "...          ...      ...  \n",
       "20141       3.61     3.01  \n",
       "17077       4.28     6.20  \n",
       "19605       4.75     7.00  \n",
       "11981       3.00     2.40  \n",
       "1582        3.60     2.37  \n",
       "\n",
       "[5306 rows x 7 columns]"
      ]
     },
     "execution_count": 92,
     "metadata": {},
     "output_type": "execute_result"
    }
   ],
   "source": [
    "test[['ta_goals','ta_goals_diff','ta_goals_diff_pred','tb_goals','ta_odds','draw_odds','tb_odds']]"
   ]
  },
  {
   "cell_type": "code",
   "execution_count": null,
   "metadata": {},
   "outputs": [],
   "source": []
  }
 ],
 "metadata": {
  "kernelspec": {
   "display_name": "Python 3.9.5 ('base')",
   "language": "python",
   "name": "python3"
  },
  "language_info": {
   "codemirror_mode": {
    "name": "ipython",
    "version": 3
   },
   "file_extension": ".py",
   "mimetype": "text/x-python",
   "name": "python",
   "nbconvert_exporter": "python",
   "pygments_lexer": "ipython3",
   "version": "3.9.5"
  },
  "orig_nbformat": 4,
  "vscode": {
   "interpreter": {
    "hash": "b4e8ac1233ec57500e8c28c02ee0a42bbaca8ea7b77248a7291f66b734aa5c5f"
   }
  }
 },
 "nbformat": 4,
 "nbformat_minor": 2
}
